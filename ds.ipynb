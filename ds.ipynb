{
  "nbformat": 4,
  "nbformat_minor": 0,
  "metadata": {
    "colab": {
      "name": "ds.ipynb",
      "provenance": [],
      "authorship_tag": "ABX9TyMCMIbuxsBohrQja9j6W4th",
      "include_colab_link": true
    },
    "kernelspec": {
      "name": "python3",
      "display_name": "Python 3"
    }
  },
  "cells": [
    {
      "cell_type": "markdown",
      "metadata": {
        "id": "view-in-github",
        "colab_type": "text"
      },
      "source": [
        "<a href=\"https://colab.research.google.com/github/rshrestha1/ARMDeploy/blob/master/ds.ipynb\" target=\"_parent\"><img src=\"https://colab.research.google.com/assets/colab-badge.svg\" alt=\"Open In Colab\"/></a>"
      ]
    },
    {
      "cell_type": "code",
      "metadata": {
        "id": "75JxNHzyaJmr",
        "colab_type": "code",
        "outputId": "b392394b-84ac-41ba-91b0-fa1c0d07e59f",
        "colab": {
          "base_uri": "https://localhost:8080/",
          "height": 35
        }
      },
      "source": [
        "def first_letter(word):\n",
        "  #print(word)\n",
        "  letter = word[:1]\n",
        "  print (letter)\n",
        "\n",
        "first_letter('pandamic')"
      ],
      "execution_count": 5,
      "outputs": [
        {
          "output_type": "stream",
          "text": [
            "p\n"
          ],
          "name": "stdout"
        }
      ]
    },
    {
      "cell_type": "markdown",
      "metadata": {
        "id": "vdQvncGzAiFd",
        "colab_type": "text"
      },
      "source": [
        "if (l1>l2+l3) or (l2>l1+l3) or (l3>l1+l2):\n",
        "print('No, the lengths wont form a triangle')\n",
        "elif (l1==l2+l3) or (l2==l1+l3) or (l3==l1+l2):\n",
        "        print('yes, it can form a degenerated triangle')\n",
        "else:\n",
        "print('Yes, a triangle can be formed out of it')\n",
        "\n",
        "length1 = int(input('enter side 1\\n'))\n",
        "length2 = int(input('enter side 2\\n'))\n",
        "length3 = int(input('enter side 3\\n'))\n"
      ]
    },
    {
      "cell_type": "code",
      "metadata": {
        "id": "HignF4AvAlAv",
        "colab_type": "code",
        "colab": {}
      },
      "source": [
        ""
      ],
      "execution_count": 0,
      "outputs": []
    },
    {
      "cell_type": "markdown",
      "metadata": {
        "id": "z7SDh2RUk2su",
        "colab_type": "text"
      },
      "source": [
        "Create a dict directory which stores telephone numbers (as string values), and populate it with these key-value pairs:\n",
        "\n",
        "Name\t\tTelephone number\n",
        "Jane Doe\t+27 555 5367\n",
        "John Smith\t+27 555 6254\n",
        "Bob Stone\t+27 555 568\n",
        "\n",
        "Change Jane’s number to +27 555 1024\n",
        "Add a new entry for a person called Anna Cooper with the phone number +27 555 3237\n",
        "\n",
        "Print Bob’s number.\n",
        "Print Bob’s number in such a way that None would be printed if Bob’s name were not in the dictionary.\n",
        "Print all the keys. The format is unimportant, as long as they’re all visible.\n",
        "Print all the values.\n"
      ]
    },
    {
      "cell_type": "code",
      "metadata": {
        "id": "35fKcXTKk-8O",
        "colab_type": "code",
        "colab": {}
      },
      "source": [
        "dt1 = {'Jane Doe': '+27 555 5367', 'John Smith':'+27 555 6254','Bob Stone':'+27 555 568'}"
      ],
      "execution_count": 0,
      "outputs": []
    },
    {
      "cell_type": "code",
      "metadata": {
        "id": "si_A_DQXlt5Z",
        "colab_type": "code",
        "colab": {
          "base_uri": "https://localhost:8080/",
          "height": 69
        },
        "outputId": "41894217-80ef-4cf3-9be0-cd732a2fa58c"
      },
      "source": [
        "dt1"
      ],
      "execution_count": 3,
      "outputs": [
        {
          "output_type": "execute_result",
          "data": {
            "text/plain": [
              "{'Bob Stone': '+27 555 568',\n",
              " 'Jane Doe': '+27 555 5367',\n",
              " 'John Smith': '+27 555 6254'}"
            ]
          },
          "metadata": {
            "tags": []
          },
          "execution_count": 3
        }
      ]
    },
    {
      "cell_type": "code",
      "metadata": {
        "id": "LUnmvsdTlut9",
        "colab_type": "code",
        "colab": {
          "base_uri": "https://localhost:8080/",
          "height": 69
        },
        "outputId": "d8aad050-36d2-4a30-a25e-0d18878ebbf4"
      },
      "source": [
        "dt1['Jane Doe'] ='+27 555 1024'\n",
        "dt1"
      ],
      "execution_count": 5,
      "outputs": [
        {
          "output_type": "execute_result",
          "data": {
            "text/plain": [
              "{'Bob Stone': '+27 555 568',\n",
              " 'Jane Doe': '+27 555 1024',\n",
              " 'John Smith': '+27 555 6254'}"
            ]
          },
          "metadata": {
            "tags": []
          },
          "execution_count": 5
        }
      ]
    },
    {
      "cell_type": "code",
      "metadata": {
        "id": "oHmaHQK8l3-Q",
        "colab_type": "code",
        "colab": {
          "base_uri": "https://localhost:8080/",
          "height": 35
        },
        "outputId": "77f86dca-945d-49d3-9389-ee1602478fe3"
      },
      "source": [
        "dt1['Bob Stone']"
      ],
      "execution_count": 6,
      "outputs": [
        {
          "output_type": "execute_result",
          "data": {
            "text/plain": [
              "'+27 555 568'"
            ]
          },
          "metadata": {
            "tags": []
          },
          "execution_count": 6
        }
      ]
    },
    {
      "cell_type": "code",
      "metadata": {
        "id": "h9dahOYqm7xI",
        "colab_type": "code",
        "colab": {
          "base_uri": "https://localhost:8080/",
          "height": 276
        },
        "outputId": "c5f595d7-5ebe-4b54-8310-13db3d040a01"
      },
      "source": [
        "\n",
        "dt={}\n",
        "while True:\n",
        "  answer = input(\"Do you want to make some entries? Y/N: \").lower().strip()\n",
        "  if answer == 'y':\n",
        "    name = str(input('Enter your name: '))\n",
        "    phone =input('Enter your phone number:')\n",
        "    dt[name]=phone\n",
        "      #reply = str(input(\"Do you want to make more entries? Y/N: \")).lower().strip()\n",
        "  elif answer == 'n':\n",
        "    print(\"You've completed updating the dictionary!\")\n",
        "    break\n",
        "print(dt)\n",
        "\n",
        "    \n",
        "\n",
        "\n",
        "\n"
      ],
      "execution_count": 45,
      "outputs": [
        {
          "output_type": "stream",
          "text": [
            "Do you want to make some entries? Y/N: y\n",
            "Enter your name: Bob Stone\n",
            "Enter your phone number:+27 555 568\n",
            "Do you want to make some entries? Y/N: y\n",
            "Enter your name: Jane Doe\n",
            "Enter your phone number:+27 555 5367\n",
            "Do you want to make some entries? Y/N: y\n",
            "Enter your name: John Smith\n",
            "Enter your phone number:+27 555 6254\n",
            "Do you want to make some entries? Y/N: n\n",
            "You've completed updating the dictionary!\n",
            "{'Bob Stone': '+27 555 568', 'Jane Doe': '+27 555 5367', 'John Smith': '+27 555 6254'}\n"
          ],
          "name": "stdout"
        },
        {
          "output_type": "execute_result",
          "data": {
            "text/plain": [
              "{'Bob Stone': '+27 555 568',\n",
              " 'Jane Doe': '+27 555 5367',\n",
              " 'John Smith': '+27 555 6254'}"
            ]
          },
          "metadata": {
            "tags": []
          },
          "execution_count": 45
        }
      ]
    },
    {
      "cell_type": "code",
      "metadata": {
        "id": "iS2bCAY88rsZ",
        "colab_type": "code",
        "colab": {
          "base_uri": "https://localhost:8080/",
          "height": 69
        },
        "outputId": "ba8d1a2c-84f0-46c4-f2ca-0df35e5c7277"
      },
      "source": [
        "dt['Jane Doe']= '+27 555 1024'\n",
        "dt"
      ],
      "execution_count": 47,
      "outputs": [
        {
          "output_type": "execute_result",
          "data": {
            "text/plain": [
              "{'Bob Stone': '+27 555 568',\n",
              " 'Jane Doe': '+27 555 1024',\n",
              " 'John Smith': '+27 555 6254'}"
            ]
          },
          "metadata": {
            "tags": []
          },
          "execution_count": 47
        }
      ]
    },
    {
      "cell_type": "code",
      "metadata": {
        "id": "P4gkBpih9ABD",
        "colab_type": "code",
        "colab": {
          "base_uri": "https://localhost:8080/",
          "height": 52
        },
        "outputId": "b6cb34d8-aeeb-4466-f3f6-e462c7f0a974"
      },
      "source": [
        "dt['Anna Cooper']='+27 555 3237'\n",
        "print('Updated dictionary:\\n',dt)"
      ],
      "execution_count": 55,
      "outputs": [
        {
          "output_type": "stream",
          "text": [
            "Updated dictionary:\n",
            " {'Bob Stone': '+27 555 568', 'Jane Doe': '+27 555 1024', 'John Smith': '+27 555 6254', 'Anna Cooper': '+27 555 3237'}\n"
          ],
          "name": "stdout"
        }
      ]
    },
    {
      "cell_type": "code",
      "metadata": {
        "id": "UUoIJbxt9jOY",
        "colab_type": "code",
        "colab": {
          "base_uri": "https://localhost:8080/",
          "height": 35
        },
        "outputId": "57c8c6ca-bb1d-408c-81de-4a3202195bb7"
      },
      "source": [
        "print(\"Bob's Number: \", dt['Bob Stone'])"
      ],
      "execution_count": 53,
      "outputs": [
        {
          "output_type": "stream",
          "text": [
            "Bob's Number:  +27 555 568\n"
          ],
          "name": "stdout"
        }
      ]
    },
    {
      "cell_type": "code",
      "metadata": {
        "id": "4f_H42a1vK1K",
        "colab_type": "code",
        "colab": {
          "base_uri": "https://localhost:8080/",
          "height": 35
        },
        "outputId": "82212b55-d58d-47de-9774-8d127b7fdf4c"
      },
      "source": [
        "print(dt)"
      ],
      "execution_count": 46,
      "outputs": [
        {
          "output_type": "stream",
          "text": [
            "{'Bob Stone': '+27 555 568', 'Jane Doe': '+27 555 5367', 'John Smith': '+27 555 6254'}\n"
          ],
          "name": "stdout"
        }
      ]
    },
    {
      "cell_type": "code",
      "metadata": {
        "id": "cY18iBjS-d4h",
        "colab_type": "code",
        "colab": {
          "base_uri": "https://localhost:8080/",
          "height": 535
        },
        "outputId": "2a369f0f-938d-44b8-9a63-296ee6d756db"
      },
      "source": [
        "name = input(\"Enter name for lookup:\")\n",
        "print(dt.get('Bob Stone',\"None\"))"
      ],
      "execution_count": 59,
      "outputs": [
        {
          "output_type": "error",
          "ename": "KeyboardInterrupt",
          "evalue": "ignored",
          "traceback": [
            "\u001b[0;31m---------------------------------------------------------------------------\u001b[0m",
            "\u001b[0;31mKeyboardInterrupt\u001b[0m                         Traceback (most recent call last)",
            "\u001b[0;32m/usr/local/lib/python3.6/dist-packages/ipykernel/kernelbase.py\u001b[0m in \u001b[0;36m_input_request\u001b[0;34m(self, prompt, ident, parent, password)\u001b[0m\n\u001b[1;32m    728\u001b[0m             \u001b[0;32mtry\u001b[0m\u001b[0;34m:\u001b[0m\u001b[0;34m\u001b[0m\u001b[0;34m\u001b[0m\u001b[0m\n\u001b[0;32m--> 729\u001b[0;31m                 \u001b[0mident\u001b[0m\u001b[0;34m,\u001b[0m \u001b[0mreply\u001b[0m \u001b[0;34m=\u001b[0m \u001b[0mself\u001b[0m\u001b[0;34m.\u001b[0m\u001b[0msession\u001b[0m\u001b[0;34m.\u001b[0m\u001b[0mrecv\u001b[0m\u001b[0;34m(\u001b[0m\u001b[0mself\u001b[0m\u001b[0;34m.\u001b[0m\u001b[0mstdin_socket\u001b[0m\u001b[0;34m,\u001b[0m \u001b[0;36m0\u001b[0m\u001b[0;34m)\u001b[0m\u001b[0;34m\u001b[0m\u001b[0;34m\u001b[0m\u001b[0m\n\u001b[0m\u001b[1;32m    730\u001b[0m             \u001b[0;32mexcept\u001b[0m \u001b[0mException\u001b[0m\u001b[0;34m:\u001b[0m\u001b[0;34m\u001b[0m\u001b[0;34m\u001b[0m\u001b[0m\n",
            "\u001b[0;32m/usr/local/lib/python3.6/dist-packages/jupyter_client/session.py\u001b[0m in \u001b[0;36mrecv\u001b[0;34m(self, socket, mode, content, copy)\u001b[0m\n\u001b[1;32m    802\u001b[0m         \u001b[0;32mtry\u001b[0m\u001b[0;34m:\u001b[0m\u001b[0;34m\u001b[0m\u001b[0;34m\u001b[0m\u001b[0m\n\u001b[0;32m--> 803\u001b[0;31m             \u001b[0mmsg_list\u001b[0m \u001b[0;34m=\u001b[0m \u001b[0msocket\u001b[0m\u001b[0;34m.\u001b[0m\u001b[0mrecv_multipart\u001b[0m\u001b[0;34m(\u001b[0m\u001b[0mmode\u001b[0m\u001b[0;34m,\u001b[0m \u001b[0mcopy\u001b[0m\u001b[0;34m=\u001b[0m\u001b[0mcopy\u001b[0m\u001b[0;34m)\u001b[0m\u001b[0;34m\u001b[0m\u001b[0;34m\u001b[0m\u001b[0m\n\u001b[0m\u001b[1;32m    804\u001b[0m         \u001b[0;32mexcept\u001b[0m \u001b[0mzmq\u001b[0m\u001b[0;34m.\u001b[0m\u001b[0mZMQError\u001b[0m \u001b[0;32mas\u001b[0m \u001b[0me\u001b[0m\u001b[0;34m:\u001b[0m\u001b[0;34m\u001b[0m\u001b[0;34m\u001b[0m\u001b[0m\n",
            "\u001b[0;32m/usr/local/lib/python3.6/dist-packages/zmq/sugar/socket.py\u001b[0m in \u001b[0;36mrecv_multipart\u001b[0;34m(self, flags, copy, track)\u001b[0m\n\u001b[1;32m    474\u001b[0m         \"\"\"\n\u001b[0;32m--> 475\u001b[0;31m         \u001b[0mparts\u001b[0m \u001b[0;34m=\u001b[0m \u001b[0;34m[\u001b[0m\u001b[0mself\u001b[0m\u001b[0;34m.\u001b[0m\u001b[0mrecv\u001b[0m\u001b[0;34m(\u001b[0m\u001b[0mflags\u001b[0m\u001b[0;34m,\u001b[0m \u001b[0mcopy\u001b[0m\u001b[0;34m=\u001b[0m\u001b[0mcopy\u001b[0m\u001b[0;34m,\u001b[0m \u001b[0mtrack\u001b[0m\u001b[0;34m=\u001b[0m\u001b[0mtrack\u001b[0m\u001b[0;34m)\u001b[0m\u001b[0;34m]\u001b[0m\u001b[0;34m\u001b[0m\u001b[0;34m\u001b[0m\u001b[0m\n\u001b[0m\u001b[1;32m    476\u001b[0m         \u001b[0;31m# have first part already, only loop while more to receive\u001b[0m\u001b[0;34m\u001b[0m\u001b[0;34m\u001b[0m\u001b[0;34m\u001b[0m\u001b[0m\n",
            "\u001b[0;32mzmq/backend/cython/socket.pyx\u001b[0m in \u001b[0;36mzmq.backend.cython.socket.Socket.recv\u001b[0;34m()\u001b[0m\n",
            "\u001b[0;32mzmq/backend/cython/socket.pyx\u001b[0m in \u001b[0;36mzmq.backend.cython.socket.Socket.recv\u001b[0;34m()\u001b[0m\n",
            "\u001b[0;32mzmq/backend/cython/socket.pyx\u001b[0m in \u001b[0;36mzmq.backend.cython.socket._recv_copy\u001b[0;34m()\u001b[0m\n",
            "\u001b[0;32m/usr/local/lib/python3.6/dist-packages/zmq/backend/cython/checkrc.pxd\u001b[0m in \u001b[0;36mzmq.backend.cython.checkrc._check_rc\u001b[0;34m()\u001b[0m\n",
            "\u001b[0;31mKeyboardInterrupt\u001b[0m: ",
            "\nDuring handling of the above exception, another exception occurred:\n",
            "\u001b[0;31mKeyboardInterrupt\u001b[0m                         Traceback (most recent call last)",
            "\u001b[0;32m<ipython-input-59-5ef0d4876f3b>\u001b[0m in \u001b[0;36m<module>\u001b[0;34m()\u001b[0m\n\u001b[0;32m----> 1\u001b[0;31m \u001b[0mname\u001b[0m \u001b[0;34m=\u001b[0m \u001b[0minput\u001b[0m\u001b[0;34m(\u001b[0m\u001b[0;34m\"Enter name for lookup:\"\u001b[0m\u001b[0;34m)\u001b[0m\u001b[0;34m\u001b[0m\u001b[0;34m\u001b[0m\u001b[0m\n\u001b[0m\u001b[1;32m      2\u001b[0m \u001b[0mprint\u001b[0m\u001b[0;34m(\u001b[0m\u001b[0mdt\u001b[0m\u001b[0;34m.\u001b[0m\u001b[0mget\u001b[0m\u001b[0;34m(\u001b[0m\u001b[0;34m'Bob Stone'\u001b[0m\u001b[0;34m,\u001b[0m\u001b[0;34m\"None\"\u001b[0m\u001b[0;34m)\u001b[0m\u001b[0;34m)\u001b[0m\u001b[0;34m\u001b[0m\u001b[0;34m\u001b[0m\u001b[0m\n",
            "\u001b[0;32m/usr/local/lib/python3.6/dist-packages/ipykernel/kernelbase.py\u001b[0m in \u001b[0;36mraw_input\u001b[0;34m(self, prompt)\u001b[0m\n\u001b[1;32m    702\u001b[0m             \u001b[0mself\u001b[0m\u001b[0;34m.\u001b[0m\u001b[0m_parent_ident\u001b[0m\u001b[0;34m,\u001b[0m\u001b[0;34m\u001b[0m\u001b[0;34m\u001b[0m\u001b[0m\n\u001b[1;32m    703\u001b[0m             \u001b[0mself\u001b[0m\u001b[0;34m.\u001b[0m\u001b[0m_parent_header\u001b[0m\u001b[0;34m,\u001b[0m\u001b[0;34m\u001b[0m\u001b[0;34m\u001b[0m\u001b[0m\n\u001b[0;32m--> 704\u001b[0;31m             \u001b[0mpassword\u001b[0m\u001b[0;34m=\u001b[0m\u001b[0;32mFalse\u001b[0m\u001b[0;34m,\u001b[0m\u001b[0;34m\u001b[0m\u001b[0;34m\u001b[0m\u001b[0m\n\u001b[0m\u001b[1;32m    705\u001b[0m         )\n\u001b[1;32m    706\u001b[0m \u001b[0;34m\u001b[0m\u001b[0m\n",
            "\u001b[0;32m/usr/local/lib/python3.6/dist-packages/ipykernel/kernelbase.py\u001b[0m in \u001b[0;36m_input_request\u001b[0;34m(self, prompt, ident, parent, password)\u001b[0m\n\u001b[1;32m    732\u001b[0m             \u001b[0;32mexcept\u001b[0m \u001b[0mKeyboardInterrupt\u001b[0m\u001b[0;34m:\u001b[0m\u001b[0;34m\u001b[0m\u001b[0;34m\u001b[0m\u001b[0m\n\u001b[1;32m    733\u001b[0m                 \u001b[0;31m# re-raise KeyboardInterrupt, to truncate traceback\u001b[0m\u001b[0;34m\u001b[0m\u001b[0;34m\u001b[0m\u001b[0;34m\u001b[0m\u001b[0m\n\u001b[0;32m--> 734\u001b[0;31m                 \u001b[0;32mraise\u001b[0m \u001b[0mKeyboardInterrupt\u001b[0m\u001b[0;34m\u001b[0m\u001b[0;34m\u001b[0m\u001b[0m\n\u001b[0m\u001b[1;32m    735\u001b[0m             \u001b[0;32melse\u001b[0m\u001b[0;34m:\u001b[0m\u001b[0;34m\u001b[0m\u001b[0;34m\u001b[0m\u001b[0m\n\u001b[1;32m    736\u001b[0m                 \u001b[0;32mbreak\u001b[0m\u001b[0;34m\u001b[0m\u001b[0;34m\u001b[0m\u001b[0m\n",
            "\u001b[0;31mKeyboardInterrupt\u001b[0m: "
          ]
        }
      ]
    },
    {
      "cell_type": "code",
      "metadata": {
        "id": "GWE4Jy77_CG_",
        "colab_type": "code",
        "colab": {
          "base_uri": "https://localhost:8080/",
          "height": 35
        },
        "outputId": "b0ae5d1d-6e50-4018-952f-fe9f55d5c8ac"
      },
      "source": [
        "dt.keys()"
      ],
      "execution_count": 63,
      "outputs": [
        {
          "output_type": "execute_result",
          "data": {
            "text/plain": [
              "dict_keys(['Bob Stone', 'Jane Doe', 'John Smith', 'Anna Cooper'])"
            ]
          },
          "metadata": {
            "tags": []
          },
          "execution_count": 63
        }
      ]
    },
    {
      "cell_type": "code",
      "metadata": {
        "id": "P36knPem-kcD",
        "colab_type": "code",
        "colab": {
          "base_uri": "https://localhost:8080/",
          "height": 35
        },
        "outputId": "6c8a09b8-bf8a-4185-c9f3-b5bdd385fc44"
      },
      "source": [
        "dt.values()"
      ],
      "execution_count": 61,
      "outputs": [
        {
          "output_type": "execute_result",
          "data": {
            "text/plain": [
              "dict_values(['+27 555 568', '+27 555 1024', '+27 555 6254', '+27 555 3237'])"
            ]
          },
          "metadata": {
            "tags": []
          },
          "execution_count": 61
        }
      ]
    },
    {
      "cell_type": "code",
      "metadata": {
        "id": "m_JBnIuvvLYk",
        "colab_type": "code",
        "colab": {
          "base_uri": "https://localhost:8080/",
          "height": 86
        },
        "outputId": "0b088b16-fb40-4ce4-85f3-4f1e2f6b7bc7"
      },
      "source": [
        "x, y = input(\"Enter a two value: \").split() \n",
        "print(\"Number of boys: \", x) \n",
        "print(\"Number of girls: \", y) \n",
        "print() "
      ],
      "execution_count": 37,
      "outputs": [
        {
          "output_type": "stream",
          "text": [
            "Enter a two value: 7 60\n",
            "Number of boys:  7\n",
            "Number of girls:  60\n",
            "\n"
          ],
          "name": "stdout"
        }
      ]
    },
    {
      "cell_type": "code",
      "metadata": {
        "id": "_MhuHLe6wxD5",
        "colab_type": "code",
        "colab": {
          "base_uri": "https://localhost:8080/",
          "height": 259
        },
        "outputId": "3ef0314c-7339-4d88-a5ee-e91a8ccd61da"
      },
      "source": [
        "# Python program showing \n",
        "# how to take multiple input \n",
        "# using List comprehension \n",
        "\n",
        "# taking two input at a time \n",
        "x, y = [int(x) for x in input(\"Enter two value: \").split()] \n",
        "print(\"First Number is: \", x) \n",
        "print(\"Second Number is: \", y) \n",
        "print() \n",
        "\n",
        "# taking three input at a time \n",
        "x, y, z = [int(x) for x in input(\"Enter three value: \").split()] \n",
        "print(\"First Number is: \", x) \n",
        "print(\"Second Number is: \", y) \n",
        "print(\"Third Number is: \", z) \n",
        "print() \n",
        "\n",
        "# taking two inputs at a time \n",
        "x, y = [int(x) for x in input(\"Enter two value: \").split()] \n",
        "print(\"First number is {} and second number is {}\".format(x, y)) \n",
        "print() \n",
        "\n",
        "# taking multiple inputs at a time \n",
        "x = [int(x) for x in input(\"Enter multiple value: \").split()] \n",
        "print(\"Number of list is: \", x) \n"
      ],
      "execution_count": 38,
      "outputs": [
        {
          "output_type": "stream",
          "text": [
            "Enter two value: 6 7\n",
            "First Number is:  6\n",
            "Second Number is:  7\n",
            "\n",
            "Enter three value: 8 9 0\n",
            "First Number is:  8\n",
            "Second Number is:  9\n",
            "Third Number is:  0\n",
            "\n",
            "Enter two value: 7 0\n",
            "First number is 7 and second number is 0\n",
            "\n",
            "Enter multiple value: 6 75 4 9\n",
            "Number of list is:  [6, 75, 4, 9]\n"
          ],
          "name": "stdout"
        }
      ]
    },
    {
      "cell_type": "code",
      "metadata": {
        "id": "2K5kc5ITnR6G",
        "colab_type": "code",
        "colab": {}
      },
      "source": [
        ""
      ],
      "execution_count": 0,
      "outputs": []
    },
    {
      "cell_type": "markdown",
      "metadata": {
        "id": "eHhDZwxUnSf8",
        "colab_type": "text"
      },
      "source": [
        "Nested For Loop \n"
      ]
    },
    {
      "cell_type": "code",
      "metadata": {
        "id": "iQ8GqoqAnU8N",
        "colab_type": "code",
        "colab": {}
      },
      "source": [
        "types =['red','big','tasty']\n",
        "fruits = ['apple','banana', 'cherry']"
      ],
      "execution_count": 0,
      "outputs": []
    },
    {
      "cell_type": "code",
      "metadata": {
        "id": "nAcIlyMPnflC",
        "colab_type": "code",
        "colab": {
          "base_uri": "https://localhost:8080/",
          "height": 173
        },
        "outputId": "1e9fd216-1af7-40a7-f01c-2caa1e3d6702"
      },
      "source": [
        "for values in types:\n",
        "  for items in fruits:\n",
        "    print(values,items)"
      ],
      "execution_count": 65,
      "outputs": [
        {
          "output_type": "stream",
          "text": [
            "red apple\n",
            "red banana\n",
            "red cherry\n",
            "big apple\n",
            "big banana\n",
            "big cherry\n",
            "tasty apple\n",
            "tasty banana\n",
            "tasty cherry\n"
          ],
          "name": "stdout"
        }
      ]
    },
    {
      "cell_type": "code",
      "metadata": {
        "id": "KtHncDlSnmjh",
        "colab_type": "code",
        "colab": {}
      },
      "source": [
        "person =['john','rita','pete']\n",
        "restaurants=['japanese','korean','vietnamese']"
      ],
      "execution_count": 0,
      "outputs": []
    },
    {
      "cell_type": "code",
      "metadata": {
        "id": "ap_DdtVcn68O",
        "colab_type": "code",
        "colab": {
          "base_uri": "https://localhost:8080/",
          "height": 173
        },
        "outputId": "6c997030-2232-47f5-e106-36fdf8466a7f"
      },
      "source": [
        "for customer in person:\n",
        "  for restaurant in restaurants:\n",
        "    print(customer + ' likes '+ restaurant + ' food') "
      ],
      "execution_count": 69,
      "outputs": [
        {
          "output_type": "stream",
          "text": [
            "john likes japanese food\n",
            "john likes korean food\n",
            "john likes vietnamese food\n",
            "rita likes japanese food\n",
            "rita likes korean food\n",
            "rita likes vietnamese food\n",
            "pete likes japanese food\n",
            "pete likes korean food\n",
            "pete likes vietnamese food\n"
          ],
          "name": "stdout"
        }
      ]
    },
    {
      "cell_type": "code",
      "metadata": {
        "id": "XvTAw_JaoPuc",
        "colab_type": "code",
        "colab": {
          "base_uri": "https://localhost:8080/",
          "height": 190
        },
        "outputId": "46b65fdb-4e6e-4f81-9566-92ba5275c222"
      },
      "source": [
        "for i in range(1,11):\n",
        "  for j in range(1,11):\n",
        "    k=i*j\n",
        "    print(k, end = ' ') #, end = ''\n",
        "  print()"
      ],
      "execution_count": 72,
      "outputs": [
        {
          "output_type": "stream",
          "text": [
            "1 2 3 4 5 6 7 8 9 10 \n",
            "2 4 6 8 10 12 14 16 18 20 \n",
            "3 6 9 12 15 18 21 24 27 30 \n",
            "4 8 12 16 20 24 28 32 36 40 \n",
            "5 10 15 20 25 30 35 40 45 50 \n",
            "6 12 18 24 30 36 42 48 54 60 \n",
            "7 14 21 28 35 42 49 56 63 70 \n",
            "8 16 24 32 40 48 56 64 72 80 \n",
            "9 18 27 36 45 54 63 72 81 90 \n",
            "10 20 30 40 50 60 70 80 90 100 \n"
          ],
          "name": "stdout"
        }
      ]
    },
    {
      "cell_type": "code",
      "metadata": {
        "id": "MBf71n8hpT4-",
        "colab_type": "code",
        "colab": {
          "base_uri": "https://localhost:8080/",
          "height": 155
        },
        "outputId": "84dcaa57-0922-4043-d3b9-2e2a2b184beb"
      },
      "source": [
        "for i in range(1,9,1):\n",
        "  for a in range(i):\n",
        "    print(i, end =' ')\n",
        "  print()\n"
      ],
      "execution_count": 85,
      "outputs": [
        {
          "output_type": "stream",
          "text": [
            "1 \n",
            "2 2 \n",
            "3 3 3 \n",
            "4 4 4 4 \n",
            "5 5 5 5 5 \n",
            "6 6 6 6 6 6 \n",
            "7 7 7 7 7 7 7 \n",
            "8 8 8 8 8 8 8 8 \n"
          ],
          "name": "stdout"
        }
      ]
    },
    {
      "cell_type": "code",
      "metadata": {
        "id": "mMryKP8BsQoj",
        "colab_type": "code",
        "colab": {
          "base_uri": "https://localhost:8080/",
          "height": 225
        },
        "outputId": "44fb6a46-d3c3-4629-be4d-6fb52e7a964a"
      },
      "source": [
        "persons = [ 'John', 'Marissa', 'Pete', 'Dayton']\n",
        "for per1 in persons:\n",
        "  for per2 in persons:\n",
        "    if per1!= per2:\n",
        "      print(per1 +' meets '+ per2)"
      ],
      "execution_count": 88,
      "outputs": [
        {
          "output_type": "stream",
          "text": [
            "John meets Marissa\n",
            "John meets Pete\n",
            "John meets Dayton\n",
            "Marissa meets John\n",
            "Marissa meets Pete\n",
            "Marissa meets Dayton\n",
            "Pete meets John\n",
            "Pete meets Marissa\n",
            "Pete meets Dayton\n",
            "Dayton meets John\n",
            "Dayton meets Marissa\n",
            "Dayton meets Pete\n"
          ],
          "name": "stdout"
        }
      ]
    },
    {
      "cell_type": "markdown",
      "metadata": {
        "id": "tvQEwMfIsRu8",
        "colab_type": "text"
      },
      "source": [
        "persons = [ “John”, “Marissa”, “Pete”, “Dayton” ]\n"
      ]
    },
    {
      "cell_type": "code",
      "metadata": {
        "id": "ajXG9blfvtfC",
        "colab_type": "code",
        "colab": {
          "base_uri": "https://localhost:8080/",
          "height": 35
        },
        "outputId": "2c15c070-fb4b-44f8-e821-2a2b45eb9f8c"
      },
      "source": [
        "def ftn(par):\n",
        "  return par\n",
        "\n",
        "ftn(\"hello\")"
      ],
      "execution_count": 89,
      "outputs": [
        {
          "output_type": "execute_result",
          "data": {
            "text/plain": [
              "'hello'"
            ]
          },
          "metadata": {
            "tags": []
          },
          "execution_count": 89
        }
      ]
    },
    {
      "cell_type": "code",
      "metadata": {
        "id": "uah6grYRxzH2",
        "colab_type": "code",
        "colab": {}
      },
      "source": [
        " person = [ 'John', 'Marissa', 'Pete', 'Dayton']\n",
        " n=0\n",
        " person = person[ : n ] + person[n+1 : ]"
      ],
      "execution_count": 0,
      "outputs": []
    },
    {
      "cell_type": "code",
      "metadata": {
        "id": "ZJ0s4Jqaywer",
        "colab_type": "code",
        "colab": {
          "base_uri": "https://localhost:8080/",
          "height": 35
        },
        "outputId": "9a4e66e3-da2c-41f8-d855-e8d7d83a8d08"
      },
      "source": [
        "def listf(par):\n",
        "  return(par[0])\n",
        "test_list =[8,1,2,3]\n",
        "listf(test_list)\n"
      ],
      "execution_count": 93,
      "outputs": [
        {
          "output_type": "execute_result",
          "data": {
            "text/plain": [
              "8"
            ]
          },
          "metadata": {
            "tags": []
          },
          "execution_count": 93
        }
      ]
    },
    {
      "cell_type": "code",
      "metadata": {
        "id": "AnAtzQuIzNUz",
        "colab_type": "code",
        "colab": {
          "base_uri": "https://localhost:8080/",
          "height": 35
        },
        "outputId": "b0c0ca01-08ad-42dc-b190-7af03d4a8068"
      },
      "source": [
        "def mult(a,b,c):\n",
        "  d =a*b \n",
        "  return (d+c)\n",
        "mult(10,25,30)"
      ],
      "execution_count": 94,
      "outputs": [
        {
          "output_type": "execute_result",
          "data": {
            "text/plain": [
              "280"
            ]
          },
          "metadata": {
            "tags": []
          },
          "execution_count": 94
        }
      ]
    },
    {
      "cell_type": "code",
      "metadata": {
        "id": "DhQac-9szgxp",
        "colab_type": "code",
        "colab": {
          "base_uri": "https://localhost:8080/",
          "height": 35
        },
        "outputId": "2df05bef-2c6a-40f9-e8c5-8c9fd8d6b78c"
      },
      "source": [
        "def giver(a,b):\n",
        "  c=a+b\n",
        "  return c\n",
        "\n",
        "def taker(d,e):\n",
        "  op =giver(d,e)\n",
        "  op+=100\n",
        "  return op \n",
        "\n",
        "giver(1,5)\n",
        "taker(1,5)"
      ],
      "execution_count": 95,
      "outputs": [
        {
          "output_type": "execute_result",
          "data": {
            "text/plain": [
              "106"
            ]
          },
          "metadata": {
            "tags": []
          },
          "execution_count": 95
        }
      ]
    },
    {
      "cell_type": "code",
      "metadata": {
        "id": "dAxD2-G_0ZxG",
        "colab_type": "code",
        "colab": {
          "base_uri": "https://localhost:8080/",
          "height": 35
        },
        "outputId": "08ff4b46-9187-4589-bfeb-7f36fe89d4da"
      },
      "source": [
        "def listm(par):\n",
        "  par.append(5)\n",
        "  par.insert(2,4) #(position, what to add)\n",
        "  par.remove(3)\n",
        "  return par\n",
        "\n",
        "test =[1,1,1,1,1,1,1,3]\n",
        "print(listm(test))"
      ],
      "execution_count": 102,
      "outputs": [
        {
          "output_type": "stream",
          "text": [
            "[1, 1, 4, 1, 1, 1, 1, 1, 5]\n"
          ],
          "name": "stdout"
        }
      ]
    },
    {
      "cell_type": "code",
      "metadata": {
        "id": "HYLGG29d0taO",
        "colab_type": "code",
        "colab": {
          "base_uri": "https://localhost:8080/",
          "height": 35
        },
        "outputId": "fdfef411-7a5f-4826-d914-ab6776f4fe74"
      },
      "source": [
        "def product(a):\n",
        "  return (a[1]*a[2])\n",
        "\n",
        "a = [1,2,3,4]\n",
        "product(a)"
      ],
      "execution_count": 97,
      "outputs": [
        {
          "output_type": "execute_result",
          "data": {
            "text/plain": [
              "6"
            ]
          },
          "metadata": {
            "tags": []
          },
          "execution_count": 97
        }
      ]
    },
    {
      "cell_type": "code",
      "metadata": {
        "id": "BFgda6x92NW7",
        "colab_type": "code",
        "colab": {
          "base_uri": "https://localhost:8080/",
          "height": 35
        },
        "outputId": "528b7f36-5201-43eb-a317-069669af0039"
      },
      "source": [
        "def print_items_next_line(a):\n",
        "  for items in a:\n",
        "    print(items, end = ' ')\n",
        "\n",
        "new_list= [10,20,30,40,50]\n",
        "print_items_next_line(new_list)"
      ],
      "execution_count": 108,
      "outputs": [
        {
          "output_type": "stream",
          "text": [
            "10 20 30 40 50 "
          ],
          "name": "stdout"
        }
      ]
    },
    {
      "cell_type": "code",
      "metadata": {
        "id": "EXOoxBeG2o7A",
        "colab_type": "code",
        "colab": {}
      },
      "source": [
        "def man_list(a):\n",
        "  empty =[]\n",
        "  for items in a:\n",
        "    empty.append(items *a)\n",
        "  return empty\n",
        "a = [10,20,30,40,50]\n",
        "man_list(a)"
      ],
      "execution_count": 0,
      "outputs": []
    },
    {
      "cell_type": "code",
      "metadata": {
        "id": "-RMZQHkO3-3k",
        "colab_type": "code",
        "colab": {
          "base_uri": "https://localhost:8080/",
          "height": 35
        },
        "outputId": "4851fb7a-025a-4cf2-9c94-02f57dbee18a"
      },
      "source": [
        "def max_num_in_list(list):\n",
        "  max = list[0]\n",
        "  for a in list:\n",
        "    if a>max:\n",
        "      max = a\n",
        "  return max\n",
        "\n",
        "max_num_in_list([10,2,3,400,800])"
      ],
      "execution_count": 113,
      "outputs": [
        {
          "output_type": "execute_result",
          "data": {
            "text/plain": [
              "800"
            ]
          },
          "metadata": {
            "tags": []
          },
          "execution_count": 113
        }
      ]
    },
    {
      "cell_type": "code",
      "metadata": {
        "id": "Nv0vovcK4_nw",
        "colab_type": "code",
        "colab": {
          "base_uri": "https://localhost:8080/",
          "height": 35
        },
        "outputId": "22643808-ad22-4385-870a-68bfcf31fb51"
      },
      "source": [
        "import math as mt\n",
        "def new_num(list):\n",
        "  empty=[]\n",
        "  for items in list:\n",
        "    ceil = mt.ceil(items/2)\n",
        "    empty.append(ceil)\n",
        "  total =sum(empty)\n",
        "  return empty,total \n",
        "\n",
        "new_num([10,20,7])"
      ],
      "execution_count": 115,
      "outputs": [
        {
          "output_type": "execute_result",
          "data": {
            "text/plain": [
              "([5, 10, 4], 19)"
            ]
          },
          "metadata": {
            "tags": []
          },
          "execution_count": 115
        }
      ]
    },
    {
      "cell_type": "code",
      "metadata": {
        "id": "vHF0WlU_6qkV",
        "colab_type": "code",
        "colab": {
          "base_uri": "https://localhost:8080/",
          "height": 35
        },
        "outputId": "5ce16530-311b-4f38-a65d-466bc74122f0"
      },
      "source": [
        " import math \n",
        " def new_num1(list,k):\n",
        "  empty=[]\n",
        "  counter =0\n",
        "  while counter<k:\n",
        "    ceil =math.ceil(max(list)/2)\n",
        "    empty.append(ceil)\n",
        "    counter +=1\n",
        "  return empty \n",
        "\n",
        "new_num1([10,20,7],4)"
      ],
      "execution_count": 120,
      "outputs": [
        {
          "output_type": "execute_result",
          "data": {
            "text/plain": [
              "[10, 10, 10, 10]"
            ]
          },
          "metadata": {
            "tags": []
          },
          "execution_count": 120
        }
      ]
    },
    {
      "cell_type": "code",
      "metadata": {
        "id": "dzxvS0jc8Dmv",
        "colab_type": "code",
        "colab": {
          "base_uri": "https://localhost:8080/",
          "height": 35
        },
        "outputId": "ba1c34b5-d897-4097-a54e-59e45a330a8f"
      },
      "source": [
        "def str_len(str):\n",
        "  count =0\n",
        "  for char in str:\n",
        "    count+=1\n",
        "  return count\n",
        "print(str_len(\"hello world\"))"
      ],
      "execution_count": 121,
      "outputs": [
        {
          "output_type": "stream",
          "text": [
            "11\n"
          ],
          "name": "stdout"
        }
      ]
    },
    {
      "cell_type": "code",
      "metadata": {
        "id": "ezLiZzSm8OFQ",
        "colab_type": "code",
        "colab": {
          "base_uri": "https://localhost:8080/",
          "height": 321
        },
        "outputId": "3c952573-d140-44c6-8a1f-985256fe7e66"
      },
      "source": [
        "import math \n",
        "def minsum(num,k):\n",
        "  num.sort()\n",
        "  newnum = []\n",
        "  for i in range(k):\n",
        "    if not newnum:\n",
        "      max_num =num.pop()\n",
        "    elif not num:\n",
        "      max_num= newnum.pop()\n",
        "    elif newnum[-1]>num[-1]:\n",
        "      max_num =num.pop()\n",
        "    else:\n",
        "      max_num = num.pop()\n",
        "      ceil =math.ceil(max_num/2)\n",
        "      newnum.insert(0,ceil)\n",
        "    s = sum(num)+ sum(newnum)\n",
        "  return s\n",
        "minsum([10,20,7],4)"
      ],
      "execution_count": 125,
      "outputs": [
        {
          "output_type": "error",
          "ename": "IndexError",
          "evalue": "ignored",
          "traceback": [
            "\u001b[0;31m---------------------------------------------------------------------------\u001b[0m",
            "\u001b[0;31mIndexError\u001b[0m                                Traceback (most recent call last)",
            "\u001b[0;32m<ipython-input-125-6fa806ba898d>\u001b[0m in \u001b[0;36m<module>\u001b[0;34m()\u001b[0m\n\u001b[1;32m     16\u001b[0m     \u001b[0ms\u001b[0m \u001b[0;34m=\u001b[0m \u001b[0msum\u001b[0m\u001b[0;34m(\u001b[0m\u001b[0mnum\u001b[0m\u001b[0;34m)\u001b[0m\u001b[0;34m+\u001b[0m \u001b[0msum\u001b[0m\u001b[0;34m(\u001b[0m\u001b[0mnewnum\u001b[0m\u001b[0;34m)\u001b[0m\u001b[0;34m\u001b[0m\u001b[0;34m\u001b[0m\u001b[0m\n\u001b[1;32m     17\u001b[0m   \u001b[0;32mreturn\u001b[0m \u001b[0ms\u001b[0m\u001b[0;34m\u001b[0m\u001b[0;34m\u001b[0m\u001b[0m\n\u001b[0;32m---> 18\u001b[0;31m \u001b[0mminsum\u001b[0m\u001b[0;34m(\u001b[0m\u001b[0;34m[\u001b[0m\u001b[0;36m10\u001b[0m\u001b[0;34m,\u001b[0m\u001b[0;36m20\u001b[0m\u001b[0;34m,\u001b[0m\u001b[0;36m7\u001b[0m\u001b[0;34m]\u001b[0m\u001b[0;34m,\u001b[0m\u001b[0;36m4\u001b[0m\u001b[0;34m)\u001b[0m\u001b[0;34m\u001b[0m\u001b[0;34m\u001b[0m\u001b[0m\n\u001b[0m",
            "\u001b[0;32m<ipython-input-125-6fa806ba898d>\u001b[0m in \u001b[0;36mminsum\u001b[0;34m(num, k)\u001b[0m\n\u001b[1;32m      5\u001b[0m   \u001b[0;32mfor\u001b[0m \u001b[0mi\u001b[0m \u001b[0;32min\u001b[0m \u001b[0mrange\u001b[0m\u001b[0;34m(\u001b[0m\u001b[0mk\u001b[0m\u001b[0;34m)\u001b[0m\u001b[0;34m:\u001b[0m\u001b[0;34m\u001b[0m\u001b[0;34m\u001b[0m\u001b[0m\n\u001b[1;32m      6\u001b[0m     \u001b[0;32mif\u001b[0m \u001b[0;32mnot\u001b[0m \u001b[0mnewnum\u001b[0m\u001b[0;34m:\u001b[0m\u001b[0;34m\u001b[0m\u001b[0;34m\u001b[0m\u001b[0m\n\u001b[0;32m----> 7\u001b[0;31m       \u001b[0mmax_num\u001b[0m \u001b[0;34m=\u001b[0m\u001b[0mnum\u001b[0m\u001b[0;34m.\u001b[0m\u001b[0mpop\u001b[0m\u001b[0;34m(\u001b[0m\u001b[0;34m)\u001b[0m\u001b[0;34m\u001b[0m\u001b[0;34m\u001b[0m\u001b[0m\n\u001b[0m\u001b[1;32m      8\u001b[0m     \u001b[0;32melif\u001b[0m \u001b[0;32mnot\u001b[0m \u001b[0mnum\u001b[0m\u001b[0;34m:\u001b[0m\u001b[0;34m\u001b[0m\u001b[0;34m\u001b[0m\u001b[0m\n\u001b[1;32m      9\u001b[0m       \u001b[0mmax_num\u001b[0m\u001b[0;34m=\u001b[0m \u001b[0mnewnum\u001b[0m\u001b[0;34m.\u001b[0m\u001b[0mpop\u001b[0m\u001b[0;34m(\u001b[0m\u001b[0;34m)\u001b[0m\u001b[0;34m\u001b[0m\u001b[0;34m\u001b[0m\u001b[0m\n",
            "\u001b[0;31mIndexError\u001b[0m: pop from empty list"
          ]
        }
      ]
    },
    {
      "cell_type": "code",
      "metadata": {
        "id": "8tMep-z08_Yx",
        "colab_type": "code",
        "colab": {}
      },
      "source": [
        ""
      ],
      "execution_count": 0,
      "outputs": []
    }
  ]
}