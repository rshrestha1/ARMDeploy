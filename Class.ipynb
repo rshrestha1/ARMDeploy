{
  "nbformat": 4,
  "nbformat_minor": 0,
  "metadata": {
    "colab": {
      "name": "Class.ipynb",
      "provenance": [],
      "authorship_tag": "ABX9TyMVMMIb/s1UIPEv9mKksdfN",
      "include_colab_link": true
    },
    "kernelspec": {
      "name": "python3",
      "display_name": "Python 3"
    }
  },
  "cells": [
    {
      "cell_type": "markdown",
      "metadata": {
        "id": "view-in-github",
        "colab_type": "text"
      },
      "source": [
        "<a href=\"https://colab.research.google.com/github/rshrestha1/ARMDeploy/blob/master/Class.ipynb\" target=\"_parent\"><img src=\"https://colab.research.google.com/assets/colab-badge.svg\" alt=\"Open In Colab\"/></a>"
      ]
    },
    {
      "cell_type": "code",
      "metadata": {
        "id": "tkYeWa9vJqs1",
        "colab_type": "code",
        "colab": {
          "base_uri": "https://localhost:8080/",
          "height": 68
        },
        "outputId": "6ae359ce-2746-408b-b8ec-269c822cdb4e"
      },
      "source": [
        "class Employee:\n",
        "\n",
        "  num_of_emps = 0 #class variable\n",
        "  raise_amt = 1.04\n",
        "\n",
        "  def __init__(self,first,last,pay):\n",
        "    self.first =first\n",
        "    self.last =last\n",
        "    self.pay = pay\n",
        "    self.email = first + '.' + last+ '@company.com'\n",
        "\n",
        "    Employee.num_of_emps += 1\n",
        "  \n",
        "  def fullname(Self):\n",
        "    return '{} {}'.format(self.first,self.last)\n",
        "\n",
        "  def apply_raise(self):\n",
        "    self.pay = int(self.pay * self.raise_amt) # can also use Employee.raise_amt\n",
        "\n",
        "  @classmethod\n",
        "  def set_raise_amt (cls,amount):\n",
        "    cls.raise_amt =amount\n",
        "\n",
        "emp1 = Employee('Corey', 'Schafer', 50000)\n",
        "emp2 = Employee(\"Test\",\"Employee\", 60000)\n",
        "\n",
        "Employee.set_raise_amt(1.05)\n",
        "\n",
        "print(Employee.raise_amt)\n",
        "print(emp1.raise_amt)\n",
        "print(emp2.raise_amt)\n",
        "\n",
        "emp1.fullname() # when we run this it gets transformed as line 34 and passes on emp1 as self\n",
        "print(Employee.fullname(emp1)) #same as line 33\n"
      ],
      "execution_count": 4,
      "outputs": [
        {
          "output_type": "stream",
          "text": [
            "1.05\n",
            "1.05\n",
            "1.05\n"
          ],
          "name": "stdout"
        }
      ]
    },
    {
      "cell_type": "code",
      "metadata": {
        "id": "0WnscsliMy45",
        "colab_type": "code",
        "colab": {
          "base_uri": "https://localhost:8080/",
          "height": 51
        },
        "outputId": "c6b8149f-c546-433a-c9b0-83447ff43851"
      },
      "source": [
        "class Employee:\n",
        "  pass #if we want to leave a class empty for a timebeing\n",
        "\n",
        "emp1 = Employee()\n",
        "emp2 = Employee()\n",
        "\n",
        "print(emp1)\n",
        "print(emp2)\n",
        "\n",
        "print(emp1.__dict__)\n",
        "print(Employee.__dict__) # check what variables and values are there in its namespace\n"
      ],
      "execution_count": 5,
      "outputs": [
        {
          "output_type": "stream",
          "text": [
            "<__main__.Employee object at 0x7fc486913f98>\n",
            "<__main__.Employee object at 0x7fc486913048>\n"
          ],
          "name": "stdout"
        }
      ]
    },
    {
      "cell_type": "markdown",
      "metadata": {
        "id": "6Q3IkJb5M_qG",
        "colab_type": "text"
      },
      "source": [
        "# Class\n",
        "\n",
        "*   a blueprint for creating instances. Eg. Each unique employee thats created  using employee class will be an instance of that class\n",
        "*   In the eg. above, emp1 and emp2 are objects of Employee class which are both unique and have different locations in memory\n",
        "*   INSTANCE VARIABLE - has data thats unique to each instance. \n",
        "Eg. emp1.first = \"Ritima\"\n",
        "    emp.last =\"Shrestha\"\n",
        "    emp.pay = \"600000\n",
        "*   __init__ method -> Initialize \n",
        "    \"self\" -> instance\n",
        "While passing the argument, \"**ORDER**\" is important\n",
        "\n",
        "> ** name, email, pay --> attributes of class\n",
        "\n",
        "---\n",
        "# Methods\n",
        "(add to class) \n",
        "1. Ability to display full name of employee (method to allow this ability)\n",
        "  def fullname(self):\n",
        "    return '{} {}'.format(self.first,self.last)\n",
        "\n",
        "^^ TYPEERROR fullname() takes 0 positional value but 1 was given \n",
        "if we do not put \"self\" in method's parameter\n",
        "Eg. def fullname() \n",
        "    print(emp2.fullname())\n",
        "\n",
        "This is becuse the instance (here emp2) gets passed automatically so we need to expect that instance argument in that method, so we need to add \"self\".\n",
        "\n",
        "\n",
        "\n",
        "\n",
        "\n"
      ]
    },
    {
      "cell_type": "code",
      "metadata": {
        "id": "26icDp1qW8ve",
        "colab_type": "code",
        "colab": {
          "base_uri": "https://localhost:8080/",
          "height": 102
        },
        "outputId": "23fc4086-a37d-4946-f808-1309967dc0bd"
      },
      "source": [
        "class Employee:\n",
        "  raise_amt =1.04\n",
        "  \n",
        "  def __init__(self,first,last,pay):\n",
        "    self.first =first\n",
        "    self.last =last\n",
        "    self.pay = pay\n",
        "    self.email = first + '.' + last+ '@company.com'\n",
        "\n",
        "    #Employee.num_of_emps += 1\n",
        "  \n",
        "  def fullname(self):\n",
        "    return '{} {}'.format(self.first,self.last)\n",
        "\n",
        "  def apply_raise(self):\n",
        "    self.pay = int(self.pay * self.raise_amt) # can also use Employee.raise_amt\n",
        "\n",
        "class Developer(Employee):\n",
        "    def __init__(self,first,last,pay, prog_lang):\n",
        "      super().__init__(first,last,pay)\n",
        "      #Employee.__init__(self,first,last,pay)\n",
        "      self.prog_lang = prog_lang\n",
        "\n",
        "class Manager(Employee):\n",
        "    def __init__(self,first,last,pay, employees= None):\n",
        "      super().__init__(first,last,pay)\n",
        "      if employees is None:\n",
        "        self.employees =[]\n",
        "      else:\n",
        "        self.employees = employees\n",
        "    \n",
        "    def add_emp(self,emp):\n",
        "      if emp not in self.employees:\n",
        "        self.employees.append(emp)\n",
        "    \n",
        "    def remove_emp(self,emp):\n",
        "      if emp in self.employees:\n",
        "        self.employees.remove(emp)\n",
        "    \n",
        "    def print_emp(self):\n",
        "      for emp in self.employees:\n",
        "        print('-->',emp.fullname())\n",
        "\n",
        "\n",
        "dev1 = Developer('Mana', 'Schafer', 60000, 'Python')\n",
        "dev2 = Developer ('Procab','Labs', 70000,'Java')\n",
        "\n",
        "mgr1 = Manager('Sue', 'Smith', 90000, [dev1])\n",
        "\n",
        "print(mgr1.email)\n",
        "mgr1.add_emp(dev2)\n",
        "mgr1.remove_emp(dev1)\n",
        "mgr1.print_emp()\n",
        "\n",
        "#print(dev2.prog_lang)\n",
        "#print(dev1.email)\n",
        "\n",
        "# method resolution \n",
        "# print(help(Developer))\n",
        "\n",
        "print(isinstance(mgr1, Developer)) #will tell us if the object is an instance of a class\n",
        "# here even though manager and developer inherit from employee, they are not instances from each others classes. Hence, False\n",
        "\n",
        "print(issubclass(Manager, Developer))\n",
        "print(issubclass(Manager, Employee))\n",
        "\n",
        "\n",
        "#Python's Whiskey Library \n",
        "# @implement_to_string\n",
        "# class HTTPException(Exception):\n"
      ],
      "execution_count": 18,
      "outputs": [
        {
          "output_type": "stream",
          "text": [
            "Sue.Smith@company.com\n",
            "--> Procab Labs\n",
            "False\n",
            "False\n",
            "True\n"
          ],
          "name": "stdout"
        }
      ]
    },
    {
      "cell_type": "code",
      "metadata": {
        "id": "Fwdll1-NM3vf",
        "colab_type": "code",
        "colab": {
          "base_uri": "https://localhost:8080/",
          "height": 408
        },
        "outputId": "4660af02-d760-447b-8854-26796395573c"
      },
      "source": [
        "class basic: \n",
        "  def __init__(self, can_stream, can_download, has_SD, no_of_devices, price):\n",
        "    self.can_stream= can_stream\n",
        "    self.can_download = can_download\n",
        "    self.has_SD = has_SD\n",
        "    self.no_of_devices = no_of_devices\n",
        "    self.price = price\n",
        "\n",
        "class standard(basic):\n",
        "  def __init__(self, can_stream, can_download, has_SD, has_HD, no_of_devices, price):\n",
        "    super().__init__(can_stream, can_download,has_SD, no_of_devices ,price)\n",
        "    self.has_HD =has_HD\n",
        "\n",
        "class premium(standard):\n",
        "  def __init__(self, can_stream, can_download, has_SD, has_HD, has_UHD, no_of_devices, price):\n",
        "    super().__init__(can_stream, can_download,has_SD, has_HD, no_of_devices ,price )\n",
        "    self.has_UHD =has_UHD\n",
        "\n",
        "BasicPlan = basic(\"✓\",\"✓\",\"✓\",'1','8.99')\n",
        "StandardPlan = standard (\"✓\",\"✓\",\"✓\",\"✓\",'2','8.99')\n",
        "PremiumPlan = premium(\"✓\",\"✓\",\"✓\",\"✓\",\"✓\",'4','15.99')\n",
        "\n",
        "#print(help(premium))\n",
        "print(\"Basic Plan \\n can stream {} \\n can download {} \\n has SD {} \\n no of devices {} \\n price {}\".format(BasicPlan.can_stream, BasicPlan.can_download, BasicPlan.has_SD, BasicPlan.no_of_devices, BasicPlan.price))\n",
        "print(\"\\n Standard Plan \\n can stream {} \\n can download {} \\n has SD {} \\n has HD {} \\n no of devices {} \\n price {}\".format(StandardPlan.can_stream, StandardPlan.can_download, StandardPlan.has_SD, StandardPlan.has_HD, StandardPlan.no_of_devices, StandardPlan.price))\n",
        "mystring = \"\\n Premium Plan \\n can stream {} \\n can download {} \\n has SD {} \\n has HD {} \\n has UHD {} \\n no of devices {} \\n price {}\"\n",
        "print(mystring.format(PremiumPlan.can_stream, PremiumPlan.can_download, PremiumPlan.has_SD, PremiumPlan.has_HD, PremiumPlan.has_UHD, PremiumPlan.no_of_devices, PremiumPlan.price))"
      ],
      "execution_count": 37,
      "outputs": [
        {
          "output_type": "stream",
          "text": [
            "Basic Plan \n",
            " can stream ✓ \n",
            " can download ✓ \n",
            " has SD ✓ \n",
            " no of devices 1 \n",
            " price 8.99\n",
            "\n",
            " Standard Plan \n",
            " can stream ✓ \n",
            " can download ✓ \n",
            " has SD ✓ \n",
            " has HD ✓ \n",
            " no of devices 2 \n",
            " price 8.99\n",
            "\n",
            " Premium Plan \n",
            " can stream ✓ \n",
            " can download ✓ \n",
            " has SD ✓ \n",
            " has HD ✓ \n",
            " has UHD ✓ \n",
            " no of devices 4 \n",
            " price 15.99\n"
          ],
          "name": "stdout"
        }
      ]
    },
    {
      "cell_type": "code",
      "metadata": {
        "id": "wLVvoTXiWb7U",
        "colab_type": "code",
        "colab": {
          "base_uri": "https://localhost:8080/",
          "height": 68
        },
        "outputId": "658d3aec-f2a7-4c30-9bf6-c72a7b89317c"
      },
      "source": [
        "#Magic method -- dunder init \n",
        "#def __repr__(self) for developers for debugging \n",
        "#def ___str__(self) #readable representation of object; used for display \n",
        "\n",
        "class Employee:\n",
        "  raise_amt =1.04\n",
        "  \n",
        "  def __init__(self,first,last,pay):\n",
        "    self.first =first\n",
        "    self.last =last\n",
        "    self.pay = pay\n",
        "    self.email = first + '.' + last+ '@company.com'\n",
        "\n",
        "    #Employee.num_of_emps += 1\n",
        "  \n",
        "  def fullname(self):\n",
        "    return '{} {}'.format(self.first,self.last)\n",
        "\n",
        "  def apply_raise(self):\n",
        "    self.pay = int(self.pay * self.raise_amt) # can also use Employee.raise_amt\n",
        "  \n",
        "#dunder string\n",
        "  def __repr__ (self):\n",
        "    return \"Employee ('{}', '{}', '{}')\". format(self.first, self.last,self.pay)\n",
        "\n",
        "  def ___str__(self):\n",
        "    return '{} - {}'.format(self.fullname(), self.email)\n",
        "\n",
        "  def __add__(self, other):\n",
        "    return self.pay + other.pay\n",
        "\n",
        "  def __len__(self):\n",
        "    return len(self.fullname())\n",
        "\n",
        "\n",
        "emp1 = Employee('Mana', 'Schafer', 60000)\n",
        "emp2 = Employee ('Procab','Labs', 70000)\n",
        "\n",
        "print(emp1)\n",
        "print(emp1 +emp2)\n",
        "print(len(emp1))\n",
        "#print('test'.__len__()) # similar to print(len(test))\n",
        "\n",
        "\n"
      ],
      "execution_count": 42,
      "outputs": [
        {
          "output_type": "stream",
          "text": [
            "Employee ('Mana', 'Schafer', '60000')\n",
            "130000\n",
            "12\n"
          ],
          "name": "stdout"
        }
      ]
    },
    {
      "cell_type": "code",
      "metadata": {
        "id": "FHv2PeisdEj3",
        "colab_type": "code",
        "colab": {}
      },
      "source": [
        ""
      ],
      "execution_count": null,
      "outputs": []
    },
    {
      "cell_type": "markdown",
      "metadata": {
        "id": "5KaaUyIglqGD",
        "colab_type": "text"
      },
      "source": [
        ""
      ]
    }
  ]
}